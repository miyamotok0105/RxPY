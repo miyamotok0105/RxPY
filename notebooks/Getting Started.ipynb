{
 "cells": [
  {
   "cell_type": "markdown",
   "metadata": {},
   "source": [
    "# Getting Started with RxPY\n",
    "\n",
    "ReactiveX、つまりRxは、observableイベントストリームでプログラミングするためのAPIです。"
   ]
  },
  {
   "cell_type": "markdown",
   "metadata": {},
   "source": [
    "\"Rx = Observables + LINQ + Schedulers\"     \n",
    "３つの組み合わせを使用することでコードを簡潔にかける。\n",
    "\n",
    "\n",
    "\n",
    "```python\n",
    "subscription = Observable.subscribe(observer)\n",
    "```\n"
   ]
  },
  {
   "cell_type": "markdown",
   "metadata": {},
   "source": [
    "## インストール\n",
    "\n",
    "pipを使ってRxPYをインストール"
   ]
  },
  {
   "cell_type": "code",
   "execution_count": 2,
   "metadata": {},
   "outputs": [
    {
     "name": "stdout",
     "output_type": "stream",
     "text": [
      "Collecting rx\n",
      "  Using cached Rx-1.6.0-py2.py3-none-any.whl\n",
      "Installing collected packages: rx\n",
      "Successfully installed rx-1.6.0\n"
     ]
    }
   ],
   "source": [
    "%%bash\n",
    "pip install rx"
   ]
  },
  {
   "cell_type": "markdown",
   "metadata": {},
   "source": [
    "## Rxモジュールをインポート"
   ]
  },
  {
   "cell_type": "code",
   "execution_count": 1,
   "metadata": {},
   "outputs": [],
   "source": [
    "import rx\n",
    "from rx import Observable, Observer"
   ]
  },
  {
   "cell_type": "markdown",
   "metadata": {},
   "source": [
    "## シーケンスの生成\n",
    "\n",
    "一連のイベントを生成するには多くの方法があります。 開始する最も簡単な方法はfrom_iterable（）演算子を使用することです。この演算子はfrom_とも呼ばれます。 just、generate、create、rangeなどのシーケンスを生成することができる。\n",
    "ObserverクラスのMyObserverを生成。range(10)を引数に入れると１行処理するごとにon_nextが呼ばれる。最後の処理が終わったらon_completedが呼ばれる。"
   ]
  },
  {
   "cell_type": "code",
   "execution_count": 2,
   "metadata": {},
   "outputs": [
    {
     "name": "stdout",
     "output_type": "stream",
     "text": [
      "Got: 0\n",
      "Got: 1\n",
      "Got: 2\n",
      "Sequence completed\n"
     ]
    }
   ],
   "source": [
    "class MyObserver(Observer):\n",
    "    def on_next(self, x):\n",
    "        print(\"Got: %s\" % x)\n",
    "        \n",
    "    def on_error(self, e):\n",
    "        print(\"Got error: %s\" % e)\n",
    "        \n",
    "    def on_completed(self):\n",
    "        print(\"Sequence completed\")\n",
    "\n",
    "xs = Observable.from_iterable(range(3))\n",
    "d = xs.subscribe(MyObserver())"
   ]
  },
  {
   "cell_type": "markdown",
   "metadata": {},
   "source": [
    "from_iterableもfrom_も同じじゃない？"
   ]
  },
  {
   "cell_type": "code",
   "execution_count": 3,
   "metadata": {},
   "outputs": [
    {
     "name": "stdout",
     "output_type": "stream",
     "text": [
      "0\n",
      "1\n",
      "2\n"
     ]
    }
   ],
   "source": [
    "xs = Observable.from_iterable(range(3))\n",
    "d = xs.subscribe(print)"
   ]
  },
  {
   "cell_type": "code",
   "execution_count": 4,
   "metadata": {},
   "outputs": [
    {
     "name": "stdout",
     "output_type": "stream",
     "text": [
      "0\n",
      "1\n",
      "2\n"
     ]
    }
   ],
   "source": [
    "xs = Observable.from_(range(3))\n",
    "d = xs.subscribe(print)"
   ]
  },
  {
   "cell_type": "markdown",
   "metadata": {},
   "source": [
    "**NOTE:** subscribeメソッドは、on_next（）、on_error（）およびon_completed（）を渡すためのオブザーバまたは1〜3つのコールバックをとります。 匿名オブザーバのためのon_next（）ハンドラなので、上記の例ではオブザーバとして直接printを使用できます。\n"
   ]
  },
  {
   "cell_type": "markdown",
   "metadata": {},
   "source": [
    "# シーケンスのフィルタリング"
   ]
  },
  {
   "cell_type": "code",
   "execution_count": 20,
   "metadata": {
    "scrolled": true
   },
   "outputs": [
    {
     "name": "stdout",
     "output_type": "stream",
     "text": [
      "1\n",
      "3\n"
     ]
    }
   ],
   "source": [
    "xs = Observable.from_(range(5))\n",
    "d = xs.filter(\n",
    "        lambda x: x % 2\n",
    "    ).subscribe(print)"
   ]
  },
  {
   "cell_type": "code",
   "execution_count": 21,
   "metadata": {},
   "outputs": [
    {
     "name": "stdout",
     "output_type": "stream",
     "text": [
      "2\n"
     ]
    }
   ],
   "source": [
    "xs = Observable.from_(range(5))\n",
    "d = xs.filter(\n",
    "        lambda x: x == 2\n",
    "    ).subscribe(print)"
   ]
  },
  {
   "cell_type": "markdown",
   "metadata": {},
   "source": [
    "## シーケンスの変換"
   ]
  },
  {
   "cell_type": "code",
   "execution_count": 22,
   "metadata": {},
   "outputs": [
    {
     "name": "stdout",
     "output_type": "stream",
     "text": [
      "0\n",
      "2\n",
      "4\n"
     ]
    }
   ],
   "source": [
    "xs = Observable.from_(range(3))\n",
    "d = xs.map(\n",
    "        lambda x: x * 2\n",
    "    ).subscribe(print)"
   ]
  },
  {
   "cell_type": "code",
   "execution_count": 23,
   "metadata": {},
   "outputs": [
    {
     "name": "stdout",
     "output_type": "stream",
     "text": [
      "2\n",
      "3\n",
      "4\n"
     ]
    }
   ],
   "source": [
    "xs = Observable.from_(range(3))\n",
    "d = xs.map(\n",
    "        lambda x: x + 2\n",
    "    ).subscribe(print)"
   ]
  },
  {
   "cell_type": "markdown",
   "metadata": {},
   "source": [
    "**NOTE: **  マッパー関数の2番目のパラメータとしてインデックスを取ることもできます："
   ]
  },
  {
   "cell_type": "code",
   "execution_count": 8,
   "metadata": {},
   "outputs": [
    {
     "name": "stdout",
     "output_type": "stream",
     "text": [
      "0: 20\n",
      "1: 24\n",
      "2: 28\n",
      "3: 32\n",
      "4: 36\n"
     ]
    }
   ],
   "source": [
    "xs = Observable.from_(range(10, 20, 2))\n",
    "d = xs.map(\n",
    "        lambda x, i: \"%s: %s\" % (i, x * 2)\n",
    "    ).subscribe(print)"
   ]
  },
  {
   "cell_type": "markdown",
   "metadata": {},
   "source": [
    "## マージ\n",
    "\n",
    "マージ演算子を使用して2つのシーケンスを単一のシーケンスにマージする"
   ]
  },
  {
   "cell_type": "code",
   "execution_count": 6,
   "metadata": {},
   "outputs": [
    {
     "name": "stdout",
     "output_type": "stream",
     "text": [
      "a\n",
      "1\n",
      "b\n",
      "2\n",
      "c\n",
      "3\n",
      "d\n",
      "4\n",
      "e\n",
      "5\n"
     ]
    }
   ],
   "source": [
    "xs = Observable.range(1, 5)\n",
    "ys = Observable.from_(\"abcde\")\n",
    "zs = xs.merge(ys).subscribe(print)"
   ]
  },
  {
   "cell_type": "markdown",
   "metadata": {},
   "source": [
    "## Rxの時代\n",
    "\n",
    "上記の例では、すべてのイベントが同じ瞬間に発生します。イベントは、注文によってのみ分離されます。これは、上記のマージ操作の結果が次のようないくつかの有効な結果を持つ可能性があるため、多くの新規参入者をRxに混乱させます。\n",
    "\n",
    "    a1b2c3d4e5\n",
    "    1a2b3c4d5e\n",
    "    ab12cd34e5\n",
    "    abcde12345\n",
    "    \n",
    "あなたが持っている唯一の保証は、1はxsの2より前ですが、xsの1はysの前後です。 どのイベントを先に進めるべきかを決定するのはスケジューラのソートの安定性です。 リアルタイムのデータストリームの場合、イベントは実際の時間で区切られるため、問題はありません。 あなたが \"期待している\"結果を確実に得るためには、Rxで遊ぶときにイベントの間に時間を入れておくことをお勧めします。"
   ]
  },
  {
   "cell_type": "markdown",
   "metadata": {},
   "source": [
    "## マーブルとマーブルダイアグラム\n",
    "\n",
    "こちらの画像を見ると何となくわかる。\n",
    "http://rxmarbles.com/\n",
    "\n",
    "前のセクションで見たように、RxとRxPYで遊ぶときに時間を追加するといいです。 RxPYを探検する素晴らしい方法は、大理石図を使って遊ぶことができる大理石テストモジュールを使うことです。 Marblesモジュールは、Observableに2つの新しい拡張メソッドを追加します。 メソッドはfrom_marbles（）とto_marbles（）です。\n",
    "\n",
    "\n",
    "Examples:\n",
    "1.  `res = rx.Observable.from_marbles(\"1-2-3-|\")`\n",
    "2.  `res = rx.Observable.from_marbles(\"1-2-3-x\", rx.Scheduler.timeout)`\n",
    "\n",
    "マーブルの文字列は、いくつかの特殊文字\n",
    "\n",
    "```\n",
    "    - = Timespan of 100 ms\n",
    "    x = on_error()\n",
    "    | = on_completed()\n",
    "```\n",
    "\n",
    "他のすべての文字は、文字列上にある特定の瞬間にon_next（）イベントとして扱われます。 複数の文字値を表現する必要がある場合は、「1-（42）-3」などの角括弧でグループ化できます。\n",
    "\n",
    "Lets try it out:"
   ]
  },
  {
   "cell_type": "code",
   "execution_count": 24,
   "metadata": {},
   "outputs": [
    {
     "data": {
      "text/plain": [
       "'a-b-c-|'"
      ]
     },
     "execution_count": 24,
     "metadata": {},
     "output_type": "execute_result"
    }
   ],
   "source": [
    "from rx.testing import marbles\n",
    "\n",
    "xs = Observable.from_marbles(\"a-b-c-|\")\n",
    "xs.to_blocking().to_marbles()"
   ]
  },
  {
   "cell_type": "markdown",
   "metadata": {},
   "source": [
    "関数の処理たちのことをストリームと呼んでる<br>\n",
    "大文字の文字列にxを挿入することで、偶数ストリームにエラーを追加するのは簡単です："
   ]
  },
  {
   "cell_type": "code",
   "execution_count": 25,
   "metadata": {},
   "outputs": [
    {
     "data": {
      "text/plain": [
       "'11-22-3-34x'"
      ]
     },
     "execution_count": 25,
     "metadata": {},
     "output_type": "execute_result"
    }
   ],
   "source": [
    "xs = Observable.from_marbles(\"1-2-3-x-5\")\n",
    "ys = Observable.from_marbles(\"1-2-3-4-5\")\n",
    "xs.merge(ys).to_blocking().to_marbles()"
   ]
  },
  {
   "cell_type": "markdown",
   "metadata": {},
   "source": [
    "## サブジェクトとストリーム\n",
    "\n",
    "ストリームを作成する簡単な方法は、サブジェクトを使用することです。 \n",
    "\n",
    "SubjectはObservableとObserverの両方であるため、イベントに参加することもon_nextすることもできます。"
   ]
  },
  {
   "cell_type": "code",
   "execution_count": 29,
   "metadata": {},
   "outputs": [
    {
     "name": "stdout",
     "output_type": "stream",
     "text": [
      "Got: 42\n"
     ]
    }
   ],
   "source": [
    "from rx.subjects import Subject\n",
    "\n",
    "stream = Subject()\n",
    "stream.on_next(41)\n",
    "\n",
    "d = stream.subscribe(lambda x: print(\"Got: %s\" % x))\n",
    "stream.on_next(42)"
   ]
  },
  {
   "cell_type": "code",
   "execution_count": 33,
   "metadata": {},
   "outputs": [
    {
     "name": "stdout",
     "output_type": "stream",
     "text": [
      "Got: 43\n"
     ]
    }
   ],
   "source": [
    "d = stream.subscribe(lambda x: print(\"Got: %s\" % x))\n",
    "stream.on_next(43)"
   ]
  },
  {
   "cell_type": "code",
   "execution_count": 34,
   "metadata": {
    "collapsed": true
   },
   "outputs": [],
   "source": [
    "d.dispose()\n",
    "stream.on_next(44)"
   ]
  },
  {
   "cell_type": "markdown",
   "metadata": {},
   "source": [
    "# チュートリアル"
   ]
  },
  {
   "cell_type": "code",
   "execution_count": null,
   "metadata": {},
   "outputs": [],
   "source": [
    "#https://tutorialedge.net/python/python-event-driven-rxpy-tutorial/"
   ]
  },
  {
   "cell_type": "code",
   "execution_count": 5,
   "metadata": {},
   "outputs": [],
   "source": [
    "stocks = [\n",
    "  { 'TCKR' : 'APPL', 'PRICE': 200},\n",
    "  { 'TCKR' : 'GOOG', 'PRICE': 90},\n",
    "  { 'TCKR' : 'TSLA', 'PRICE': 120},\n",
    "  { 'TCKR' : 'MSFT', 'PRICE': 150},\n",
    "  { 'TCKR' : 'INTL', 'PRICE': 70},\n",
    "]"
   ]
  },
  {
   "cell_type": "code",
   "execution_count": 6,
   "metadata": {},
   "outputs": [],
   "source": [
    "from rx import Observable\n",
    "def buy_stock_events(observer):\n",
    "    for stock in stocks:\n",
    "        if(stock['PRICE'] > 100):\n",
    "            observer.on_next(stock['TCKR'])\n",
    "        elif(stock['PRICE'] <= 0):\n",
    "            observer.on_error(stock['TCKR'])\n",
    "    observer.on_completed()\n",
    "\n",
    "source = Observable.create(buy_stock_events) "
   ]
  },
  {
   "cell_type": "code",
   "execution_count": null,
   "metadata": {},
   "outputs": [],
   "source": []
  },
  {
   "cell_type": "code",
   "execution_count": 7,
   "metadata": {},
   "outputs": [],
   "source": [
    "#メソッドを突っ込んで発行"
   ]
  },
  {
   "cell_type": "code",
   "execution_count": 8,
   "metadata": {},
   "outputs": [
    {
     "ename": "SyntaxError",
     "evalue": "invalid syntax (<ipython-input-8-f6119096764a>, line 1)",
     "output_type": "error",
     "traceback": [
      "\u001b[0;36m  File \u001b[0;32m\"<ipython-input-8-f6119096764a>\"\u001b[0;36m, line \u001b[0;32m1\u001b[0m\n\u001b[0;31m    source.subscribe(on_next=lambda value: print(\"購入 {0}\".format(value)),\u001b[0m\n\u001b[0m                                               ^\u001b[0m\n\u001b[0;31mSyntaxError\u001b[0m\u001b[0;31m:\u001b[0m invalid syntax\n"
     ]
    }
   ],
   "source": [
    "source.subscribe(on_next=lambda value: print(\"購入 {0}\".format(value)),\n",
    "                on_completed=lambda: print(\"取引終了\"),\n",
    "                on_error=lambda e: print(e))"
   ]
  },
  {
   "cell_type": "markdown",
   "metadata": {},
   "source": [
    "# Observablesの作成"
   ]
  },
  {
   "cell_type": "markdown",
   "metadata": {},
   "source": [
    "## import"
   ]
  },
  {
   "cell_type": "code",
   "execution_count": 5,
   "metadata": {},
   "outputs": [],
   "source": [
    "from random import randint\n",
    "from datetime import datetime\n",
    "import rx\n",
    "from rx import Observable, Observer\n",
    "from rx.concurrency import AsyncIOScheduler\n",
    "\n",
    "class MyObserver(Observer):\n",
    "    def on_next(self, x):\n",
    "        print(\"Got: %s\" % x)\n",
    "        \n",
    "    def on_error(self, e):\n",
    "        print(\"Got error: %s\" % e)\n",
    "        \n",
    "    def on_completed(self):\n",
    "        print(\"Sequence completed\")\n",
    "\n",
    "def rand():\n",
    "    return randint(100, 999)"
   ]
  },
  {
   "cell_type": "markdown",
   "metadata": {},
   "source": [
    "## create"
   ]
  },
  {
   "cell_type": "markdown",
   "metadata": {},
   "source": [
    "オブザーバメソッドを呼び出す"
   ]
  },
  {
   "cell_type": "code",
   "execution_count": 6,
   "metadata": {},
   "outputs": [
    {
     "name": "stdout",
     "output_type": "stream",
     "text": [
      "1\n",
      "2\n"
     ]
    },
    {
     "data": {
      "text/plain": [
       "<rx.disposables.anonymousdisposable.AnonymousDisposable at 0x102785898>"
      ]
     },
     "execution_count": 6,
     "metadata": {},
     "output_type": "execute_result"
    }
   ],
   "source": [
    "def obs1(observer):\n",
    "    observer.on_next(1)\n",
    "    observer.on_next(2)\n",
    "res = rx.Observable.create(obs1)\n",
    "res.subscribe(on_next=lambda value: print(\"{0}\".format(value)),\n",
    "                on_completed=lambda: print(\"終了\"),\n",
    "                on_error=lambda e: print(e))"
   ]
  },
  {
   "cell_type": "markdown",
   "metadata": {},
   "source": [
    "## generate"
   ]
  },
  {
   "cell_type": "code",
   "execution_count": 7,
   "metadata": {},
   "outputs": [
    {
     "name": "stdout",
     "output_type": "stream",
     "text": [
      "0\n",
      "1\n",
      "2\n",
      "3\n",
      "終了\n"
     ]
    },
    {
     "data": {
      "text/plain": [
       "<rx.disposables.anonymousdisposable.AnonymousDisposable at 0x10211de48>"
      ]
     },
     "execution_count": 7,
     "metadata": {},
     "output_type": "execute_result"
    }
   ],
   "source": [
    "res = rx.Observable.generate(0, lambda x: x < 4, lambda x: x + 1, lambda x: x)\n",
    "res.subscribe(on_next=lambda value: print(\"{0}\".format(value)),\n",
    "                on_completed=lambda: print(\"終了\"),\n",
    "                on_error=lambda e: print(e))"
   ]
  },
  {
   "cell_type": "code",
   "execution_count": 8,
   "metadata": {},
   "outputs": [
    {
     "name": "stdout",
     "output_type": "stream",
     "text": [
      "0\n",
      "2.2\n",
      "4.4\n",
      "6.6000000000000005\n",
      "終了\n"
     ]
    },
    {
     "data": {
      "text/plain": [
       "<rx.disposables.anonymousdisposable.AnonymousDisposable at 0x102785048>"
      ]
     },
     "execution_count": 8,
     "metadata": {},
     "output_type": "execute_result"
    }
   ],
   "source": [
    "def generator_based_on_previous(x): return x + 1.1\n",
    "def doubler(x): return 2 * x\n",
    "res = rx.Observable.generate(0, lambda x: x < 4, generator_based_on_previous, doubler)\n",
    "res.subscribe(on_next=lambda value: print(\"{0}\".format(value)),\n",
    "                on_completed=lambda: print(\"終了\"),\n",
    "                on_error=lambda e: print(e))"
   ]
  },
  {
   "cell_type": "markdown",
   "metadata": {},
   "source": [
    "## defer"
   ]
  },
  {
   "cell_type": "code",
   "execution_count": 38,
   "metadata": {},
   "outputs": [],
   "source": [
    "# obs1 = rx.Observable.defer(rx.Observable.just(1))\n",
    "# obs2 = rx.Observable.defer(rx.Observable.just(2))\n",
    "\n",
    "# def selector():\n",
    "#     return True\n",
    "\n",
    "# res = rx.Observable.if_then(selector, obs1, obs2)\n",
    "# res.subscribe(on_next=lambda value: print(\"{0}\".format(value)),\n",
    "#                 on_completed=lambda: print(\"終了\"),\n",
    "#                 on_error=lambda e: print(e))\n"
   ]
  },
  {
   "cell_type": "code",
   "execution_count": 41,
   "metadata": {},
   "outputs": [],
   "source": [
    "# obs1 = rx.Observable.defer(rx.Observable.just(1))\n",
    "# obs2 = rx.Observable.defer(rx.Observable.just(2))\n",
    "\n",
    "# def selector():\n",
    "#     return True\n",
    "\n",
    "# res = rx.Observable.case(selector, { '1': obs1, '2': obs2 })\n",
    "# res.subscribe(on_next=lambda value: print(\"{0}\".format(value)),\n",
    "#                 on_completed=lambda: print(\"終了\"),\n",
    "#                 on_error=lambda e: print(e))"
   ]
  },
  {
   "cell_type": "markdown",
   "metadata": {},
   "source": [
    "## range"
   ]
  },
  {
   "cell_type": "code",
   "execution_count": 23,
   "metadata": {},
   "outputs": [
    {
     "name": "stdout",
     "output_type": "stream",
     "text": [
      "0\n",
      "1\n",
      "2\n",
      "終了\n"
     ]
    },
    {
     "data": {
      "text/plain": [
       "<rx.disposables.anonymousdisposable.AnonymousDisposable at 0x1027a4048>"
      ]
     },
     "execution_count": 23,
     "metadata": {},
     "output_type": "execute_result"
    }
   ],
   "source": [
    "res = rx.Observable.range(0, 3)\n",
    "res.subscribe(on_next=lambda value: print(\"{0}\".format(value)),\n",
    "                on_completed=lambda: print(\"終了\"),\n",
    "                on_error=lambda e: print(e))"
   ]
  },
  {
   "cell_type": "markdown",
   "metadata": {
    "collapsed": true
   },
   "source": [
    "## just"
   ]
  },
  {
   "cell_type": "markdown",
   "metadata": {},
   "source": [
    "単一の指定された要素を含むobservableシーケンスを返します"
   ]
  },
  {
   "cell_type": "code",
   "execution_count": 99,
   "metadata": {},
   "outputs": [
    {
     "name": "stdout",
     "output_type": "stream",
     "text": [
      "42\n",
      "終了\n"
     ]
    },
    {
     "data": {
      "text/plain": [
       "<rx.disposables.anonymousdisposable.AnonymousDisposable at 0x104867080>"
      ]
     },
     "execution_count": 99,
     "metadata": {},
     "output_type": "execute_result"
    }
   ],
   "source": [
    "res = rx.Observable.just(42)\n",
    "res.subscribe(on_next=lambda value: print(\"{0}\".format(value)),\n",
    "                on_completed=lambda: print(\"終了\"),\n",
    "                on_error=lambda e: print(e))"
   ]
  },
  {
   "cell_type": "markdown",
   "metadata": {},
   "source": [
    "## start"
   ]
  },
  {
   "cell_type": "markdown",
   "metadata": {},
   "source": [
    "関数の結果値を公開するobservableシーケンス"
   ]
  },
  {
   "cell_type": "code",
   "execution_count": 52,
   "metadata": {},
   "outputs": [
    {
     "name": "stdout",
     "output_type": "stream",
     "text": [
      "hello1hello2\n",
      "\n"
     ]
    }
   ],
   "source": [
    "res = rx.Observable.start(lambda: print('hello1'))\n",
    "res = rx.Observable.start(lambda: print('hello2'))"
   ]
  },
  {
   "cell_type": "markdown",
   "metadata": {},
   "source": [
    "## from"
   ]
  },
  {
   "cell_type": "markdown",
   "metadata": {},
   "source": [
    "指定されたenumerableシーケンスから要素が引き出されるobservableシーケンス"
   ]
  },
  {
   "cell_type": "code",
   "execution_count": 72,
   "metadata": {},
   "outputs": [
    {
     "data": {
      "text/plain": [
       "<rx.core.anonymousobservable.AnonymousObservable at 0x1057eacc0>"
      ]
     },
     "execution_count": 72,
     "metadata": {},
     "output_type": "execute_result"
    }
   ],
   "source": [
    "res = rx.Observable.from_iterable([1,2,3])\n",
    "res"
   ]
  },
  {
   "cell_type": "code",
   "execution_count": 73,
   "metadata": {},
   "outputs": [
    {
     "name": "stdout",
     "output_type": "stream",
     "text": [
      "1\n",
      "2\n",
      "3\n",
      "終了\n"
     ]
    },
    {
     "data": {
      "text/plain": [
       "<rx.disposables.anonymousdisposable.AnonymousDisposable at 0x1058260f0>"
      ]
     },
     "execution_count": 73,
     "metadata": {},
     "output_type": "execute_result"
    }
   ],
   "source": [
    "res.subscribe(on_next=lambda value: print(\"{0}\".format(value)),\n",
    "                on_completed=lambda: print(\"終了\"),\n",
    "                on_error=lambda e: print(e))"
   ]
  },
  {
   "cell_type": "markdown",
   "metadata": {},
   "source": [
    "## timer"
   ]
  },
  {
   "cell_type": "markdown",
   "metadata": {},
   "source": [
    "期限が経過してから各期間の後に値を生成するobservableシーケンスを返します"
   ]
  },
  {
   "cell_type": "code",
   "execution_count": 82,
   "metadata": {},
   "outputs": [],
   "source": [
    "res = Observable.timer(datetime.now())\n",
    "res = Observable.timer(datetime.now(), 1000)\n",
    "res = res.time_interval().map(lambda x: 'val:%s dt:%s' % (x.value, x.interval)).take(3)"
   ]
  },
  {
   "cell_type": "code",
   "execution_count": 83,
   "metadata": {},
   "outputs": [
    {
     "data": {
      "text/plain": [
       "<rx.disposables.anonymousdisposable.AnonymousDisposable at 0x105845c50>"
      ]
     },
     "execution_count": 83,
     "metadata": {},
     "output_type": "execute_result"
    }
   ],
   "source": [
    "res.subscribe(on_next=lambda value: print(\"{0}\".format(value)),\n",
    "                on_completed=lambda: print(\"終了\"),\n",
    "                on_error=lambda e: print(e))"
   ]
  },
  {
   "cell_type": "markdown",
   "metadata": {},
   "source": [
    "# Observablesの変換"
   ]
  },
  {
   "cell_type": "markdown",
   "metadata": {},
   "source": [
    "## buffer"
   ]
  },
  {
   "cell_type": "markdown",
   "metadata": {},
   "source": [
    "Observableシーケンスの各要素を、要素数情報に基づいて生成される0個以上のバッファに投げる"
   ]
  },
  {
   "cell_type": "code",
   "execution_count": 89,
   "metadata": {},
   "outputs": [
    {
     "name": "stdout",
     "output_type": "stream",
     "text": [
      "Next: ['red', 'yellow']\n",
      "Next: ['green', 'cyan']\n",
      "Next: ['blue', 'purple']\n",
      "Complete!\n"
     ]
    }
   ],
   "source": [
    "items = ['red', 'yellow', 'green', 'cyan', 'blue', 'purple']\n",
    "source = rx.Observable.from_(items).buffer_with_count(2)\n",
    "subscription = source.subscribe(\n",
    "    lambda value: print(\"Next:\", value),\n",
    "    lambda error: print(\"Error:\", error),\n",
    "    lambda: print(\"Complete!\"))"
   ]
  },
  {
   "cell_type": "markdown",
   "metadata": {},
   "source": [
    "# Flat map"
   ]
  },
  {
   "cell_type": "code",
   "execution_count": 93,
   "metadata": {},
   "outputs": [
    {
     "name": "stdout",
     "output_type": "stream",
     "text": [
      "Next: 0\n",
      "Next: 1\n",
      "Next: 2\n",
      "Next: 3\n",
      "Next: 4\n",
      "Complete!\n"
     ]
    }
   ],
   "source": [
    "items = range(5)\n",
    "source = rx.Observable.from_(items)\n",
    "# source.select_many(lambda x: Observable.range(0, x))\n",
    "source.select_many(lambda x: Observable.range(0, x), lambda x, y: x + y)\n",
    "subscription = source.subscribe(\n",
    "    lambda value: print(\"Next:\", value),\n",
    "    lambda error: print(\"Error:\", error),\n",
    "    lambda: print(\"Complete!\"))"
   ]
  },
  {
   "cell_type": "code",
   "execution_count": null,
   "metadata": {},
   "outputs": [],
   "source": []
  }
 ],
 "metadata": {
  "kernelspec": {
   "display_name": "Python 3",
   "language": "python",
   "name": "python3"
  },
  "language_info": {
   "codemirror_mode": {
    "name": "ipython",
    "version": 3
   },
   "file_extension": ".py",
   "mimetype": "text/x-python",
   "name": "python",
   "nbconvert_exporter": "python",
   "pygments_lexer": "ipython3",
   "version": "3.5.3"
  }
 },
 "nbformat": 4,
 "nbformat_minor": 1
}
